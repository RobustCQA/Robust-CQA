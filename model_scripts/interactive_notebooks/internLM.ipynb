{
 "cells": [
  {
   "cell_type": "code",
   "execution_count": 1,
   "metadata": {},
   "outputs": [],
   "source": [
    "import torch\n",
    "from transformers import AutoModel, AutoTokenizer\n",
    "import matplotlib.pyplot as plt\n",
    "import pandas as pd\n",
    "import json\n",
    "torch.set_grad_enabled(False)\n",
    "from intern_utils import *\n",
    "import os\n",
    "from glob import glob"
   ]
  },
  {
   "cell_type": "code",
   "execution_count": null,
   "metadata": {},
   "outputs": [],
   "source": [
    "# init model and tokenizer\n",
    "model = AutoModel.from_pretrained('internlm/internlm-xcomposer2-vl-7b', trust_remote_code=True).eval()\n",
    "model.half()\n",
    "model.to(\"cuda\")\n",
    "\n",
    "tokenizer = AutoTokenizer.from_pretrained('internlm/internlm-xcomposer2-vl-7b', trust_remote_code=True)"
   ]
  },
  {
   "cell_type": "code",
   "execution_count": 3,
   "metadata": {},
   "outputs": [],
   "source": [
    "def askInternLM(prompt, question, image_path):\n",
    "    query = f'<ImageHere>{prompt} {question}'\n",
    "    image = f'{image_path}'\n",
    "    with torch.cuda.amp.autocast():\n",
    "        response, _ = model.chat(tokenizer, query=query, image=image, history=[], do_sample=False)\n",
    "    return response"
   ]
  },
  {
   "cell_type": "code",
   "execution_count": 5,
   "metadata": {},
   "outputs": [],
   "source": [
    "chart_type = \"complex\"\n",
    "ques_type = \"complex\"\n",
    "\n",
    "os.makedirs(f\"../Results/InternLM_XComposer2VL/{chart_type}_{ques_type}/Initial_run\", exist_ok=True)"
   ]
  },
  {
   "cell_type": "code",
   "execution_count": 6,
   "metadata": {},
   "outputs": [],
   "source": [
    "prompt  = \"\"\"You will be given a chart and a question pertaining to it. Explain your answer, and at the last of your response, append in the form: \"... . The answer is: <answer>\". Let's think step by step and make sure we reach the correct output.\n",
    "Question: \"\"\""
   ]
  },
  {
   "cell_type": "code",
   "execution_count": 7,
   "metadata": {},
   "outputs": [],
   "source": [
    "categories = os.listdir(\"../perturb_jsons/{}_{}\".format(chart_type, ques_type))\n",
    "categories = [os.path.basename(category).split(\".\")[0] for category in categories]\n",
    "\n",
    "global_answers = {}\n",
    "category_wise_scores = {}"
   ]
  },
  {
   "cell_type": "code",
   "execution_count": null,
   "metadata": {},
   "outputs": [],
   "source": [
    "categories = sorted(categories)\n",
    "categories"
   ]
  },
  {
   "cell_type": "code",
   "execution_count": null,
   "metadata": {},
   "outputs": [],
   "source": [
    "for category in categories:\n",
    "    print(\"running for category:\", category)\n",
    "    print()\n",
    "    df = pd.read_json('../perturb_jsons/{}_{}/{}.json'.format(chart_type, ques_type, category))\n",
    "    questions = df['query'].tolist()\n",
    "    gold_labels = df['label'].tolist()\n",
    "    imagenames = df['imgname'].tolist()\n",
    "    perturbations = df['perturbation'].tolist()\n",
    "    imagenames = [f\"../final_data/{chart_type}_{ques_type}/plots/{perturbation}/{imagename}\" for perturbation, imagename in zip(perturbations, imagenames)]\n",
    "\n",
    "    model_responses = []\n",
    "    for L in range(0, len(questions)):\n",
    "        response = askInternLM(prompt, questions[L], imagenames[L])\n",
    "        model_responses.append(response)\n",
    "        print(\".\", end=\"\")\n",
    "    print()\n",
    "    with open(f'../Results/InternLM_XComposer2VL/{chart_type}_{ques_type}/Initial_run/{category}.json', 'w') as f:\n",
    "        json.dump(model_responses, f)\n",
    "    print(\"saved the responses for category:\", category)\n",
    "    del model_responses\n",
    "    del df\n",
    "    del questions\n",
    "    del gold_labels\n",
    "    del imagenames\n",
    "    torch.cuda.empty_cache()\n",
    "            "
   ]
  },
  {
   "cell_type": "code",
   "execution_count": null,
   "metadata": {},
   "outputs": [],
   "source": []
  }
 ],
 "metadata": {
  "kernelspec": {
   "display_name": "chart-rob",
   "language": "python",
   "name": "python3"
  },
  "language_info": {
   "codemirror_mode": {
    "name": "ipython",
    "version": 3
   },
   "file_extension": ".py",
   "mimetype": "text/x-python",
   "name": "python",
   "nbconvert_exporter": "python",
   "pygments_lexer": "ipython3",
   "version": "3.10.12"
  }
 },
 "nbformat": 4,
 "nbformat_minor": 2
}
