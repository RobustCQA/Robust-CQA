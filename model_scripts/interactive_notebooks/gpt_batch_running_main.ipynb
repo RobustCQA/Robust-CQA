{
 "cells": [
  {
   "cell_type": "code",
   "execution_count": 5,
   "metadata": {},
   "outputs": [],
   "source": [
    "from openai import OpenAI\n",
    "from glob import glob \n",
    "import os\n",
    "import json\n",
    "\n",
    "client = OpenAI(api_key = \"Enter API Key Here\")"
   ]
  },
  {
   "cell_type": "code",
   "execution_count": 6,
   "metadata": {},
   "outputs": [],
   "source": [
    "batch_ids = {}"
   ]
  },
  {
   "cell_type": "code",
   "execution_count": 9,
   "metadata": {},
   "outputs": [],
   "source": [
    "chart_types = [\"complex\", \"simple\"]\n",
    "ques_types = [\"complex\", \"simple\"]"
   ]
  },
  {
   "cell_type": "code",
   "execution_count": null,
   "metadata": {},
   "outputs": [],
   "source": [
    "for chart_type in chart_types:\n",
    "    for ques_type in ques_types: \n",
    "        categories = os.listdir(\"../../perturb_jsons/{}_{}\".format(chart_type, ques_type))\n",
    "        categories = [os.path.basename(category).split(\".\")[0] for category in categories]\n",
    "        for i, category in enumerate(categories):\n",
    "          filename = category + \".jsonl\"\n",
    "          batch_input_file = client.files.create(\n",
    "            file=open(f\"./GPT_batches/{chart_type}_{ques_type}_{filename}\", \"rb\"),\n",
    "            purpose=\"batch\"\n",
    "          )\n",
    "          batch = client.batches.create(\n",
    "            input_file_id = batch_input_file.id,\n",
    "            endpoint=\"/v1/chat/completions\",\n",
    "            completion_window=\"24h\",\n",
    "            metadata={\n",
    "              \"description\": f\"{chart_type}_{ques_type}_{category}\"\n",
    "            }\n",
    "          )\n",
    "          batch_ids[f\"{chart_type}_{ques_type}_{category}\"] = batch.id\n",
    "          print(f\"Batch {i} created with id: {batch.id}\")\n",
    "\n",
    "json.dump(batch_ids, open(\"batch_ids.json\", \"w\"))"
   ]
  }
 ],
 "metadata": {
  "kernelspec": {
   "display_name": "Python 3",
   "language": "python",
   "name": "python3"
  },
  "language_info": {
   "codemirror_mode": {
    "name": "ipython",
    "version": 3
   },
   "file_extension": ".py",
   "mimetype": "text/x-python",
   "name": "python",
   "nbconvert_exporter": "python",
   "pygments_lexer": "ipython3",
   "version": "3.11.9"
  }
 },
 "nbformat": 4,
 "nbformat_minor": 2
}
