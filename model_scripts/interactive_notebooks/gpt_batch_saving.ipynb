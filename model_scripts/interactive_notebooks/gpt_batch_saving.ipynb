{
 "cells": [
  {
   "cell_type": "code",
   "execution_count": 29,
   "metadata": {},
   "outputs": [],
   "source": [
    "from openai import OpenAI\n",
    "from glob import glob \n",
    "import os\n",
    "import json\n",
    "import pandas as pd\n",
    "\n",
    "client = OpenAI(api_key = \"\")"
   ]
  },
  {
   "cell_type": "code",
   "execution_count": 55,
   "metadata": {},
   "outputs": [],
   "source": [
    "batch_ids = json.load(open(f\"batch_ids.json\",\"r\"))"
   ]
  },
  {
   "cell_type": "code",
   "execution_count": null,
   "metadata": {},
   "outputs": [],
   "source": [
    "# loop through all the batch_ids\n",
    "for batch_name in batch_ids.keys():\n",
    "    print(f\"Processing batch_name: {batch_name}\")\n",
    "    batch_id = batch_ids[batch_name]\n",
    "    batch = client.batches.retrieve(batch_id)\n",
    "    print(f\"Batch status: {batch.status}\")\n",
    "    if batch.status == \"completed\":\n",
    "        print(f\"Downloading batch_id: {batch_id}\")\n",
    "        content = client.files.content(batch.output_file_id)\n",
    "        chart_type, ques_type, category = batch_name.split(\"_\")\n",
    "        os.makedirs(f\"GPT_final_output/{chart_type}_{ques_type}\", exist_ok=True)\n",
    "        content.write_to_file(f\"GPT_final_output/{chart_type}_{ques_type}/{category}.jsonl\")"
   ]
  }
 ],
 "metadata": {
  "kernelspec": {
   "display_name": "Python 3",
   "language": "python",
   "name": "python3"
  },
  "language_info": {
   "codemirror_mode": {
    "name": "ipython",
    "version": 3
   },
   "file_extension": ".py",
   "mimetype": "text/x-python",
   "name": "python",
   "nbconvert_exporter": "python",
   "pygments_lexer": "ipython3",
   "version": "3.11.9"
  }
 },
 "nbformat": 4,
 "nbformat_minor": 2
}
