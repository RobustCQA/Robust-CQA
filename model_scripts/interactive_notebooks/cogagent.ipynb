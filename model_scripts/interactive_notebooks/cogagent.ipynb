{
 "cells": [
  {
   "cell_type": "code",
   "execution_count": 1,
   "metadata": {},
   "outputs": [],
   "source": [
    "import torch \n",
    "import pandas as pd\n",
    "from transformers import AutoModelForCausalLM, LlamaTokenizer\n",
    "from PIL import Image\n",
    "import json\n",
    "import os\n",
    "from glob import glob"
   ]
  },
  {
   "cell_type": "code",
   "execution_count": 2,
   "metadata": {},
   "outputs": [],
   "source": [
    "tokenizer = LlamaTokenizer.from_pretrained(\"lmsys/vicuna-7b-v1.5\")\n",
    "DEVICE = torch.device(\"cuda\" if torch.cuda.is_available() else \"cpu\")\n",
    "torch_type = torch.bfloat16"
   ]
  },
  {
   "cell_type": "code",
   "execution_count": null,
   "metadata": {},
   "outputs": [],
   "source": [
    "model = AutoModelForCausalLM.from_pretrained(\n",
    "    'THUDM/cogagent-vqa-hf',\n",
    "    torch_dtype=torch.bfloat16,\n",
    "    low_cpu_mem_usage=True,\n",
    "    trust_remote_code=True,\n",
    "    ).cuda().eval()"
   ]
  },
  {
   "cell_type": "code",
   "execution_count": null,
   "metadata": {},
   "outputs": [],
   "source": [
    "def ask_cog_agent(image_path, query, history=[], temperature=0.9, do_sample=False):\n",
    "    \"\"\"\n",
    "    Get the response from the cogagent based on the given image, query, and conversation history.\n",
    "\n",
    "    Parameters:\n",
    "    - image_path (str): Path to the image file.\n",
    "    - query (str): The current query prompt.\n",
    "    - history (list): List of tuples containing the conversation history.\n",
    "    - temperature (float): Sampling temperature for response generation (default is 0.9).\n",
    "    - do_sample (bool): Whether to use sampling during response generation (default is False).\n",
    "\n",
    "    Returns:\n",
    "    - str: The generated response from the cogagent.\n",
    "    \"\"\"\n",
    "    image = Image.open(image_path).convert('RGB')\n",
    "\n",
    "    input_by_model = model.build_conversation_input_ids(tokenizer, query=query, history=history, images=[image])\n",
    "    inputs = {\n",
    "        'input_ids': input_by_model['input_ids'].unsqueeze(0).to(DEVICE),\n",
    "        'token_type_ids': input_by_model['token_type_ids'].unsqueeze(0).to(DEVICE),\n",
    "        'attention_mask': input_by_model['attention_mask'].unsqueeze(0).to(DEVICE),\n",
    "        'images': [[input_by_model['images'][0].to(DEVICE).to(torch_type)]],\n",
    "    }\n",
    "    if 'cross_images' in input_by_model and input_by_model['cross_images']:\n",
    "        inputs['cross_images'] = [[input_by_model['cross_images'][0].to(DEVICE).to(torch_type)]]\n",
    "\n",
    "    gen_kwargs = {\"max_length\": 4096, \"temperature\": temperature, \"do_sample\": do_sample}\n",
    "\n",
    "    with torch.no_grad():\n",
    "        outputs = model.generate(**inputs, **gen_kwargs)\n",
    "        outputs = outputs[:, inputs['input_ids'].shape[1]:]\n",
    "        response = tokenizer.decode(outputs[0])\n",
    "        response = response.split(\"</s>\")[0]\n",
    "    return response"
   ]
  },
  {
   "cell_type": "code",
   "execution_count": null,
   "metadata": {},
   "outputs": [],
   "source": [
    "chart_type = \"complex\" # or \"simple\"\n",
    "ques_type = \"complex\" # or \"simple\"\n",
    "\n",
    "os.makedirs(f\"../../Results/cog_agent/{chart_type}_{ques_type}/Initial_Run\", exist_ok=True)"
   ]
  },
  {
   "cell_type": "code",
   "execution_count": null,
   "metadata": {},
   "outputs": [],
   "source": [
    "prompt  = \"\"\"You will be given a chart and a question pertaining to it. Explain your answer, and at the last of your response, append in the form: \"<your reasoning steps>. The answer is: <answer>\". Let's think step by step.\n",
    "Question: \"\"\""
   ]
  },
  {
   "cell_type": "code",
   "execution_count": null,
   "metadata": {},
   "outputs": [],
   "source": [
    "categories = os.listdir(\"../../perturb_jsons/{}_{}\".format(chart_type, ques_type))\n",
    "categories = [os.path.basename(category).split(\".\")[0] for category in categories]\n",
    "\n",
    "global_answers = {}\n",
    "category_wise_scores = {}"
   ]
  },
  {
   "cell_type": "code",
   "execution_count": null,
   "metadata": {},
   "outputs": [],
   "source": [
    "categories = sorted(categories)\n",
    "categories"
   ]
  },
  {
   "cell_type": "code",
   "execution_count": null,
   "metadata": {},
   "outputs": [],
   "source": [
    "for category in categories:\n",
    "    print(\"running for category:\", category)\n",
    "    print()\n",
    "    df = pd.read_json('../../perturb_jsons/{}_{}/{}.json'.format(chart_type, ques_type, category))\n",
    "    questions = df['query'].tolist()\n",
    "    gold_labels = df['label'].tolist()\n",
    "    imagenames = df['imgname'].tolist()\n",
    "    perturbations = df['perturbation'].tolist()\n",
    "    imagenames = [f\"../../final_data/{chart_type}_{ques_type}/plots/{perturbation}/{imagename}\" for perturbation, imagename in zip(perturbations, imagenames)]\n",
    "\n",
    "    model_responses = []\n",
    "    for L in range(0, len(questions)):\n",
    "        response = ask_cog_agent(imagenames[L], prompt + questions[L])\n",
    "        model_responses.append(response)\n",
    "        print(\".\", end=\"\")\n",
    "    print()\n",
    "    with open(f'../../Results/cog_agent/{chart_type}_{ques_type}/Initial_Run/{category}.json', 'w') as f:\n",
    "        json.dump(model_responses, f)\n",
    "    print(\"saved the responses for category:\", category)\n",
    "    del model_responses\n",
    "    del df\n",
    "    del questions\n",
    "    del gold_labels\n",
    "    del imagenames\n",
    "    torch.cuda.empty_cache()\n",
    "            "
   ]
  }
 ],
 "metadata": {
  "kernelspec": {
   "display_name": "chart-rob",
   "language": "python",
   "name": "python3"
  },
  "language_info": {
   "codemirror_mode": {
    "name": "ipython",
    "version": 3
   },
   "file_extension": ".py",
   "mimetype": "text/x-python",
   "name": "python",
   "nbconvert_exporter": "python",
   "pygments_lexer": "ipython3",
   "version": "3.10.12"
  }
 },
 "nbformat": 4,
 "nbformat_minor": 2
}
