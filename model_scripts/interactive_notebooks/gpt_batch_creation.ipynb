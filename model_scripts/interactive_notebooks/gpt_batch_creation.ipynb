{
 "cells": [
  {
   "cell_type": "code",
   "execution_count": 46,
   "metadata": {},
   "outputs": [],
   "source": [
    "import pandas as pd\n",
    "from glob import glob\n",
    "import os\n",
    "import json\n",
    "import base64\n",
    "import PIL.Image"
   ]
  },
  {
   "cell_type": "code",
   "execution_count": 47,
   "metadata": {},
   "outputs": [],
   "source": [
    "chart_type = \"complex\" # \"simple\" or \"complex\"\n",
    "question_type = \"complex\" # \"simple\" or \"complex\""
   ]
  },
  {
   "cell_type": "code",
   "execution_count": 49,
   "metadata": {},
   "outputs": [],
   "source": [
    "def decode_image(base_64_string):\n",
    "    image_data = base64.b64decode(base_64_string)\n",
    "    image = PIL.Image.open(io.BytesIO(image_data))\n",
    "    return image"
   ]
  },
  {
   "cell_type": "code",
   "execution_count": 50,
   "metadata": {},
   "outputs": [],
   "source": [
    "def encode_image(image_path):\n",
    "    with open(image_path, \"rb\") as image:\n",
    "        return base64.b64encode(image.read()).decode(\"utf-8\")"
   ]
  },
  {
   "cell_type": "code",
   "execution_count": 51,
   "metadata": {},
   "outputs": [],
   "source": [
    "prompt = \"\"\" Task: You will be given a chart and a question. Answer the given question from the chart given to you.  \n",
    "Instructions: \n",
    "0) Look carefully at the chart, think about the type of chart, before answering the question directly.\n",
    "1) If a question asks about a column name, give the full and exact name for the column as it is written in the chart. \n",
    "2) If a question required multiple outputs, give it in the form: [<output1>, <output2> ..] where outputs are in sorted order. For example, if the output is 'Australia and India' give the answer as [Australia, India]. Please dont use this with column names invloving 'and' keyword. \n",
    "3) If a question requires doing arithmetic operations, calculate till the final number.\n",
    "4) If a question asks for what column a certain value is in, give the full and exact name of the column and not the value.\n",
    "5) If a question asks how many times a certain value appears, give the count and not the name of the columns where it appears.\n",
    "6) Answer without taking account of the units or scale given in chart. For example, if the chart has values in millions, you should ignore the scale and account absolute numbers. Remove the unit from your final answer and reason based on the absolute values obtained directly from the chart. Example: If your answer is 10 million USD, you should write 10 as your answer.\n",
    "7) It is known that the answer is obtainable from the chart given to you.\n",
    "8) Write your intermediate steps.\n",
    "\n",
    "The chart might not have exact values written on it, therefore you might need to find the exact value in that case with the help of the axes.\n",
    "Think step by step and append the answer at the last of your response in the form: \"... . The answer is: <answer>\"\n",
    "Question: \"\"\""
   ]
  },
  {
   "cell_type": "code",
   "execution_count": 52,
   "metadata": {},
   "outputs": [],
   "source": [
    "def format_payload(id, prompt, question, base64_image):\n",
    "    payload = {\n",
    "        \"custom_id\" : id,\n",
    "        \"method\" : \"POST\",\n",
    "        \"url\" : \"/v1/chat/completions\",\n",
    "        \"body\" : {\n",
    "        \"model\": \"gpt-4o\",\n",
    "        \"messages\": [\n",
    "            {\n",
    "            \"role\": \"user\",\n",
    "            \"content\": [\n",
    "                {\n",
    "                \"type\": \"text\",\n",
    "                \"text\": prompt + question\n",
    "                },\n",
    "                {\n",
    "                \"type\": \"image_url\",\n",
    "                \"image_url\": {\n",
    "                    \"url\": f\"data:image/jpeg;base64,{base64_image}\",\n",
    "                }\n",
    "                }\n",
    "            ]\n",
    "            }\n",
    "        ],\n",
    "        \"max_tokens\": 1000\n",
    "        }\n",
    "    }\n",
    "    return payload"
   ]
  },
  {
   "cell_type": "code",
   "execution_count": null,
   "metadata": {},
   "outputs": [],
   "source": [
    "categories = os.listdir(\"../../perturb_jsons/{}_{}\".format(chart_type, question_type))\n",
    "categories = [os.path.basename(category).split(\".\")[0] for category in categories]"
   ]
  },
  {
   "cell_type": "code",
   "execution_count": 54,
   "metadata": {},
   "outputs": [],
   "source": [
    "for category in categories:\n",
    "    os.makedirs(f\"./GPT_batches/{chart_type}_{question_type}\", exist_ok=True)\n",
    "    df = pd.read_json(f\"../../perturb_jsons/{chart_type}_{question_type}/{category}.json\")\n",
    "    questions = df['query'].tolist()\n",
    "    gold_labels = df['label'].tolist()\n",
    "    imagenames = df['imgname'].tolist()\n",
    "    perturbations = df['perturbation'].tolist()\n",
    "    imagenames = [f\"../../final_data/{chart_type}_{question_type}/plots/{perturbation}/{imagename}\" for perturbation, imagename in zip(perturbations, imagenames)]\n",
    "\n",
    "    payloads = [format_payload(f\"{chart_type}_{question_type}_{category}_{i}\", prompt, questions[i], encode_image(imagenames[i])) for i in range(len(questions))]\n",
    "    for i, payload in enumerate(payloads):\n",
    "        with open(f\"./GPT_batches/{chart_type}_{question_type}/{category}.jsonl\", \"a\") as f:\n",
    "            json.dump(payload, f)\n",
    "            f.write(\"\\n\")\n",
    "\n"
   ]
  }
 ],
 "metadata": {
  "kernelspec": {
   "display_name": "Python 3",
   "language": "python",
   "name": "python3"
  },
  "language_info": {
   "codemirror_mode": {
    "name": "ipython",
    "version": 3
   },
   "file_extension": ".py",
   "mimetype": "text/x-python",
   "name": "python",
   "nbconvert_exporter": "python",
   "pygments_lexer": "ipython3",
   "version": "3.11.9"
  }
 },
 "nbformat": 4,
 "nbformat_minor": 2
}
